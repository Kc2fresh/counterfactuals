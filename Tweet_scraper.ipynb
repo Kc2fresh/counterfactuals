{
 "cells": [
  {
   "cell_type": "code",
   "execution_count": null,
   "metadata": {},
   "outputs": [],
   "source": [
    "!pip install GetOldTweets3\n",
    "import pandas as pd\n",
    "import csv\n",
    "import glob\n",
    "import os\n",
    "import GetOldTweets3 as got  \n",
    "import pandas as pd\n",
    "#TwitterBot/GetOldTweets3_Twitter_Scraper.ipynb at master · MartinBeckUT/TwitterBot\n",
    "import random\n",
    "\n",
    "\n",
    "os.chdir(r'/content/'   # replace with file path)   "
   ]
  },
  {
   "cell_type": "code",
   "execution_count": null,
   "metadata": {},
   "outputs": [],
   "source": [
    "\n",
    "\n",
    "#function to pull tweets based on a general search,    #creating query object\n",
    "def text_query_to_csv(text_query, count):\n",
    "    tweetCriteria = got.manager.TweetCriteria().setQuerySearch(text_query).setSince(since_date).setUntil(until_date).setMaxTweets(count)\n",
    "    #append all tweets\n",
    "    tweets = got.manager.TweetManager.getTweets(tweetCriteria)\n",
    "    \n",
    "    #create a list of the chosen tweet data\n",
    "    text_tweets = [[tweet.date, tweet.text] for tweet in tweets]\n",
    "    \n",
    "    #create tweet dataframe\n",
    "    tweets_df = pd.DataFrame(text_tweets, columns =['Datetime', 'Text' ])\n",
    "\n",
    "    #convert to csv filewebprofile\n",
    "    tweets_df.to_csv('{}-{}k-tweets.csv'.format(text_query, random.randrange(0, 1000, 2)), sep=',')\n",
    "    \n",
    "    #(count/1000)\n",
    "\n",
    "\n",
    "\n",
    "\n",
    "\n",
    "\n"
   ]
  },
  {
   "cell_type": "code",
   "execution_count": null,
   "metadata": {},
   "outputs": [],
   "source": [
    "#fill in the boxes as needed. this pulls 2000 tweets at a time, so replicate for as many tweets a s needed.\n",
    "\n",
    "text_query = ' the Model 3'     \n",
    "count = (2000)\n",
    "since_date = '2019-10-5'\n",
    "until_date = '2020-2-30'\n",
    "text_query_to_csv(text_query, count)\n",
    "\n",
    "\n",
    "\n"
   ]
  },
  {
   "cell_type": "code",
   "execution_count": null,
   "metadata": {},
   "outputs": [],
   "source": [
    "path = r'/content/'\n",
    "files_in_dir = [os.path.join(path,f) for f in os.listdir(path) if f.endswith('csv')]\n",
    "for filenames in files_in_dir:\n",
    "    df = pd.read_csv(filenames, skiprows = 5)\n",
    "    df.to_csv('out.csv', mode='a')"
   ]
  }
 ],
 "metadata": {
  "kernelspec": {
   "display_name": "Python 3",
   "language": "python",
   "name": "python3"
  },
  "language_info": {
   "codemirror_mode": {
    "name": "ipython",
    "version": 3
   },
   "file_extension": ".py",
   "mimetype": "text/x-python",
   "name": "python",
   "nbconvert_exporter": "python",
   "pygments_lexer": "ipython3",
   "version": "3.7.4"
  }
 },
 "nbformat": 4,
 "nbformat_minor": 2
}
